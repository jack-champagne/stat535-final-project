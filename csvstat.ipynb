{
 "cells": [
  {
   "cell_type": "code",
   "execution_count": null,
   "metadata": {},
   "outputs": [],
   "source": [
    "import matplotlib.pyplot as plt\n",
    "hist = []\n",
    "progress = 0\n",
    "import csv\n",
    "with open('data.csv') as f:\n",
    "    reader = csv.reader(f)\n",
    "    for line in reader:\n",
    "        if progress % 1000 == 0:\n",
    "            print(progress / 100000)\n",
    "        sum = 0\n",
    "        if line[0] == 'pid':\n",
    "            continue\n",
    "        for val in line[2:]:\n",
    "            sum += int(float(val))\n",
    "        hist.append(sum)\n",
    "        progress += 1\n"
   ]
  },
  {
   "cell_type": "code",
   "execution_count": null,
   "metadata": {},
   "outputs": [],
   "source": [
    "import pandas as pd\n",
    "a = pd.DataFrame(hist, columns=[\"count\"])"
   ]
  },
  {
   "cell_type": "code",
   "execution_count": null,
   "metadata": {},
   "outputs": [],
   "source": [
    "plt.hist(hist)\n",
    "plt.xlabel('# Top 2000 songs in playlist')\n",
    "plt.ylabel('# Of playlists')\n",
    "plt.savefig('my_hist.eps')"
   ]
  },
  {
   "cell_type": "code",
   "execution_count": null,
   "metadata": {},
   "outputs": [],
   "source": []
  }
 ],
 "metadata": {
  "interpreter": {
   "hash": "4aab32624900a1e526614b23abf26271900e28cb7da6f6f2f9133d2cb55a490c"
  },
  "kernelspec": {
   "display_name": "Python 3.7.11 ('cnn-research')",
   "language": "python",
   "name": "python3"
  },
  "language_info": {
   "codemirror_mode": {
    "name": "ipython",
    "version": 3
   },
   "file_extension": ".py",
   "mimetype": "text/x-python",
   "name": "python",
   "nbconvert_exporter": "python",
   "pygments_lexer": "ipython3",
   "version": "3.8.8"
  },
  "orig_nbformat": 4
 },
 "nbformat": 4,
 "nbformat_minor": 2
}

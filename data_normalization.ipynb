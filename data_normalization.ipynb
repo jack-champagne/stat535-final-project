{
 "cells": [
  {
   "cell_type": "code",
   "execution_count": null,
   "metadata": {},
   "outputs": [],
   "source": [
    "import pandas as pd\n",
    "import json\n",
    "import os\n",
    "import matplotlib.pyplot as plt\n",
    "import math"
   ]
  },
  {
   "cell_type": "code",
   "execution_count": null,
   "metadata": {},
   "outputs": [],
   "source": [
    "#reads JSON files and filters out playlists with <= 2 followers. Appends playlists to a list. \n",
    "#GOAL: collapse all sets of playlists to one pandas DF\n",
    "\n",
    "#playlists = pd.DataFrame() #create empty dataframe to contain all playlists\n",
    "playlists = []\n",
    "file_list = os.listdir('data/')\n",
    "for file in file_list:\n",
    "    f = json.load(open('data/' + file))\n",
    "    #for pl in f['playlists']:\n",
    "    pl = pd.DataFrame(f['playlists'])\n",
    "    df = pl[pl.num_followers > 2] #only append playlists with > 2 followers\n",
    "    if not df.empty:\n",
    "        playlists.append(df)\n",
    "        #playlist = pd.DataFrame(pl)\n",
    "        #df = playlist[playlist.num_followers > 2] #only append playlists with > 2 followers\n",
    "        #if not df.empty:\n",
    "        #    playlists.append(df)\n",
    "            #playlists = pd.concat([playlists, df]) #append all playlists from each slice to playlists dataframe"
   ]
  },
  {
   "cell_type": "code",
   "execution_count": null,
   "metadata": {},
   "outputs": [],
   "source": [
    "#collapse every dataframe of playlists into a single dataframe\n",
    "all_playlists = pd.concat(playlists)\n",
    "\n",
    "all_playlists.reset_index(inplace=True)\n",
    "\n",
    "all_playlists.drop(['collaborative', 'modified_at', 'description'], axis=1, inplace=True)\n",
    "\n",
    "#turn the dataframe into JSON to save for later (so we don't have to keep re-reading the massive slices)\n",
    "playlists_json = all_playlists.to_json()\n",
    "data_file = open(\"data.txt\", \"w\")\n",
    "n = data_file.write(playlists_json)\n",
    "data_file.close()\n",
    "\n",
    "#convert string back into a dataframe using 'pd.read_json(string)'"
   ]
  },
  {
   "cell_type": "code",
   "execution_count": null,
   "metadata": {},
   "outputs": [],
   "source": [
    "len(playlists)\n",
    "#playlists\n",
    "playlists[0]\n",
    "all_playlists"
   ]
  },
  {
   "cell_type": "code",
   "execution_count": null,
   "metadata": {},
   "outputs": [],
   "source": [
    "#playlists[1].tracks[0]\n",
    "all_playlists\n",
    "len(all_playlists)\n",
    "type(all_playlists)"
   ]
  },
  {
   "cell_type": "code",
   "execution_count": null,
   "metadata": {},
   "outputs": [],
   "source": [
    "type(playlists)\n",
    "len(playlists)"
   ]
  },
  {
   "cell_type": "code",
   "execution_count": null,
   "metadata": {},
   "outputs": [],
   "source": []
  }
 ],
 "metadata": {
  "kernelspec": {
   "display_name": "Python 3",
   "language": "python",
   "name": "python3"
  },
  "language_info": {
   "codemirror_mode": {
    "name": "ipython",
    "version": 3
   },
   "file_extension": ".py",
   "mimetype": "text/x-python",
   "name": "python",
   "nbconvert_exporter": "python",
   "pygments_lexer": "ipython3",
   "version": "3.8.10"
  }
 },
 "nbformat": 4,
 "nbformat_minor": 4
}
